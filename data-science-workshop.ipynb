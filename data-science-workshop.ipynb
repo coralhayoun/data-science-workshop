{
 "cells": [
  {
   "cell_type": "markdown",
   "id": "f71ce02d-7f85-489f-b706-f30d9fd26f3d",
   "metadata": {},
   "source": [
    "**<center><font size=5>E.T. Signal Search</font></center>**"
   ]
  },
  {
   "cell_type": "markdown",
   "id": "e7e6680e-dd7e-49c6-a66d-259f81368c03",
   "metadata": {},
   "source": [
    "----\n",
    "# Background\n",
    "\n",
    "##### \"Are we alone in the Universe?\"\n",
    "\n",
    "It's one of the most profound human questions.\n",
    "As technology improves, we're finding new and more powerful ways to seek for answers.\n",
    "\n",
    "The listen teams at Berkeley University, scans signals from millions of stars in the universe using world's most powerful telescopes - but it is not that easy, by the time, humans have built enormous numbers of radio device that can be detected as signals as well and distract our signals interpetation.\n",
    "In order to handle this challange today, they are using two different methods:\n",
    "1. They intersperses scans of target stars that apprears in more than one regions of the sky - because it's probably isn't coming from the direction of target star.\n",
    "2. They discards signals that don't change their frequency - because it means that they are probably nearby the telescope.\n",
    "\n",
    "These two methods are quite effective, but they can be improved. The process today misses interesting signals. particularly those with complex time or frequency structure, and those in regions of the spectrum with lots of interference\n",
    "\n",
    "(from a [kaggle competition](https://www.kaggle.com/competitions/seti-breakthrough-listen))\n",
    "\n",
    "----\n",
    "\n",
    "**Table of Contents**\n",
    "- <a href='#1'>1. Project overview</a> \n",
    "  - <a href='#1_1'>1.1. Methodology</a>\n",
    "  - <a href='#1_2'>1.2. Imports, Methods, Paths, Reading definitions</a>\n",
    "- <a href='#2'>2. Exploratory Data</a>"
   ]
  },
  {
   "cell_type": "markdown",
   "id": "50e5a997-43b5-4d20-b094-6f9f66609964",
   "metadata": {},
   "source": [
    "----\n",
    "\n",
    "# <a id='1'>1. Project overview</a>\n",
    "\n",
    "We are about to use unsupervised learning skills to train and test a model that can help identify anomalous signals in these signal's scans. <br></br>\n",
    "Even though this sounds like a *signal* detection problem, it is actually an *image* classification problem (signal represented here as an image of signal frequency intensity over time)\n",
    "\n",
    "## <a id='1_1'>1.1. Methodology</a>\n",
    "\n",
    "## <a id='1_2'>1.2. Methodology</a>"
   ]
  },
  {
   "cell_type": "code",
   "execution_count": null,
   "id": "eb0ca9c4-57b6-4d11-a9f6-f73426a1b6f3",
   "metadata": {},
   "outputs": [],
   "source": []
  },
  {
   "cell_type": "code",
   "execution_count": null,
   "id": "1bad6c9a-8415-4f4b-bd8c-96522dd70ea1",
   "metadata": {},
   "outputs": [],
   "source": []
  }
 ],
 "metadata": {
  "kernelspec": {
   "display_name": "Python 3 (ipykernel)",
   "language": "python",
   "name": "python3"
  },
  "language_info": {
   "codemirror_mode": {
    "name": "ipython",
    "version": 3
   },
   "file_extension": ".py",
   "mimetype": "text/x-python",
   "name": "python",
   "nbconvert_exporter": "python",
   "pygments_lexer": "ipython3",
   "version": "3.12.0"
  }
 },
 "nbformat": 4,
 "nbformat_minor": 5
}
