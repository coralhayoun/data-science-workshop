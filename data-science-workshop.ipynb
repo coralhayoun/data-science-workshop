{
 "cells": [
  {
   "cell_type": "markdown",
   "id": "f71ce02d-7f85-489f-b706-f30d9fd26f3d",
   "metadata": {},
   "source": [
    "# E.T. Signal Search\n"
   ]
  },
  {
   "cell_type": "code",
   "execution_count": null,
   "id": "88630152-d78a-45cc-9c69-b8a61c7d9cac",
   "metadata": {},
   "outputs": [],
   "source": []
  }
 ],
 "metadata": {
  "kernelspec": {
   "display_name": "Python 3 (ipykernel)",
   "language": "python",
   "name": "python3"
  },
  "language_info": {
   "codemirror_mode": {
    "name": "ipython",
    "version": 3
   },
   "file_extension": ".py",
   "mimetype": "text/x-python",
   "name": "python",
   "nbconvert_exporter": "python",
   "pygments_lexer": "ipython3",
   "version": "3.12.0"
  }
 },
 "nbformat": 4,
 "nbformat_minor": 5
}
