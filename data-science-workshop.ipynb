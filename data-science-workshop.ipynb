{
 "cells": [
  {
   "cell_type": "markdown",
   "id": "f71ce02d-7f85-489f-b706-f30d9fd26f3d",
   "metadata": {},
   "source": [
    "**<center><font size=5>E.T. Signal Search</font></center>**"
   ]
  },
  {
   "cell_type": "markdown",
   "id": "a6d71ce5-7b87-4985-8d1c-9d119ff9cd9b",
   "metadata": {},
   "source": [
    "----\n",
    "# Background\n",
    "\n",
    "##### \"Are we alone in the Universe?\"\n",
    "\n",
    "It's one of the most profound human questions.\n",
    "As technology improves, we're finding new and more powerful ways to seek for answers.\n",
    "\n",
    "The listen teams at Berkeley University, scans signals from millions of stars in the universe using world's most powerful telescopes - but it is not that easy, by the time, humans have built enormous numbers of radio device that can be detected as signals as well and distract our signals interpetation.\n",
    "In order to handle this challange today, they are using two different methods:\n",
    "1. They intersperses scans of target stars that apprears in more than one regions of the sky - because it's probably isn't coming from the direction of target star.\n",
    "2. They discards signals that don't change their frequency - because it means that they are probably nearby the telescope.\n",
    "\n",
    "These two methods are quite effective, but they can be improved. The process today misses interesting signals. particularly those with complex time or frequency structure, and those in regions of the spectrum with lots of interference\n",
    "\n",
    "(from kaggle competition - [im a link])"
   ]
  },
  {
   "cell_type": "markdown",
   "id": "50e5a997-43b5-4d20-b094-6f9f66609964",
   "metadata": {},
   "source": []
  },
  {
   "cell_type": "markdown",
   "id": "12f285ea-3845-46ab-a610-55f3238ab40c",
   "metadata": {},
   "source": [
    "## Our Task\n",
    "\n",
    "We are about to use unsupervised learning skills to help identify anomalous signals in these scans.\n",
    "\n",
    "##### But, How?\n",
    "1. EDA - summarizing our data main characteristics\n",
    "2. Instantiate GPU/TPU strategy\n",
    "3. Data preprocessing\n",
    "4. Build appropriate models\n",
    "5. Train and test the models\n",
    "6. Conclusions\n"
   ]
  },
  {
   "cell_type": "code",
   "execution_count": null,
   "id": "fb70a33c-371a-498e-a313-14debe0ccdcc",
   "metadata": {},
   "outputs": [],
   "source": []
  },
  {
   "cell_type": "code",
   "execution_count": null,
   "id": "d5c5fa11-ea2f-4c39-9548-f0bd477be601",
   "metadata": {},
   "outputs": [],
   "source": []
  }
 ],
 "metadata": {
  "kernelspec": {
   "display_name": "Python 3 (ipykernel)",
   "language": "python",
   "name": "python3"
  },
  "language_info": {
   "codemirror_mode": {
    "name": "ipython",
    "version": 3
   },
   "file_extension": ".py",
   "mimetype": "text/x-python",
   "name": "python",
   "nbconvert_exporter": "python",
   "pygments_lexer": "ipython3",
   "version": "3.12.0"
  }
 },
 "nbformat": 4,
 "nbformat_minor": 5
}
